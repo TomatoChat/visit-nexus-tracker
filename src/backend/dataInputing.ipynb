{
 "cells": [
  {
   "cell_type": "code",
   "execution_count": 1,
   "metadata": {},
   "outputs": [],
   "source": [
    "import sys\n",
    "import os\n",
    "from dotenv import load_dotenv\n",
    "load_dotenv()\n",
    "os.chdir(os.getenv('PROJECT_DIRECTORY'))\n",
    "sys.path.append(os.getenv('PROJECT_DIRECTORY'))\n",
    "\n",
    "import pandas as pd\n",
    "from datetime import datetime\n",
    "import pytz\n",
    "from src import supabaseUtils\n",
    "from src import locationUtils"
   ]
  },
  {
   "cell_type": "code",
   "execution_count": null,
   "metadata": {},
   "outputs": [],
   "source": [
    "suppliers = supabaseUtils.fetchFilteredRecords('companies', 'isSupplier', True)\n",
    "standUpAnagrafica = pd.read_excel('data/anagrafica.xlsx')[['Ragione Sociale', 'city', 'Provincia', 'SEDE', 'Codice Cliente', 'FORNITORE']]\n",
    "conversionSuppliers = {'Perletti': 'PERLETTI SPA',\n",
    "                       'Vitakraft': 'VITAKRAFT ITALIA SPA',\n",
    "                       'Sodifer': 'SODIFER SRL',\n",
    "                       'Signify': 'SIGNIFY SPA',\n",
    "                       'GoldPlast': 'GOLD PLAST SPA',\n",
    "                       'MaFra': 'MAFRA SPA',\n",
    "                       'BTicino': 'BTICINO SPA',\n",
    "                       'Briloner': 'BRILONER ITALIA SRL',\n",
    "                       'Colzani': 'COLZANI SPA',\n",
    "                       'Incall': 'INCALL SPA',\n",
    "                       'Mandelli': 'MANDELLI SRL'}\n",
    "conversionSupplierCompanyId = dict(zip(suppliers['name'], suppliers['id']))\n",
    "\n",
    "standUpAnagrafica['FORNITORE'] = standUpAnagrafica['FORNITORE'].map(conversionSuppliers)\n",
    "standUpAnagrafica['supplierCompanyId'] = standUpAnagrafica['FORNITORE'].map(conversionSupplierCompanyId)\n",
    "standUpAnagrafica = standUpAnagrafica.drop('FORNITORE', axis=1)\n",
    "standUpAnagrafica = standUpAnagrafica.rename(columns={'Codice Cliente': 'sellerSellingPointCode'})\n",
    "\n",
    "standUpAnagrafica"
   ]
  },
  {
   "cell_type": "markdown",
   "metadata": {},
   "source": [
    "# sellingPoints"
   ]
  },
  {
   "cell_type": "markdown",
   "metadata": {},
   "source": [
    "## addresses"
   ]
  },
  {
   "cell_type": "code",
   "execution_count": null,
   "metadata": {},
   "outputs": [],
   "source": [
    "sellingPointsAddresses = standUpAnagrafica[['Ragione Sociale', 'city', 'Provincia']].drop_duplicates()\n",
    "sellingPointsAddresses = sellingPointsAddresses.rename(columns={'Ragione Sociale': 'name',\n",
    "                                                                'Provincia': 'province'})\n",
    "# sellingPointsAddresses = locationUtils.processAddresses(sellingPointsAddresses)\n",
    "\n",
    "# sellingPointsAddresses.to_excel('data/sellingPointsAddresses.xlsx', index=False)\n",
    "sellingPointsAddresses.head(5)"
   ]
  },
  {
   "cell_type": "code",
   "execution_count": null,
   "metadata": {},
   "outputs": [],
   "source": [
    "sellingPointsAddresses = pd.read_excel('data/sellingPointsAddresses.xlsx')\n",
    "sellingPointsAddresses = pd.merge(sellingPointsAddresses.drop(columns=['city', 'province']), standUpAnagrafica[['Ragione Sociale', 'city', 'Provincia']].drop_duplicates().rename(columns={'Ragione Sociale': 'name', 'Provincia': 'stateProvince'}),\n",
    "                                  on=['name'],\n",
    "                                  how='left')\n",
    "\n",
    "sellingPointsAddresses.drop(columns=['name']).to_csv('data/[UPLOAD] sellingPointsAddresses.csv', index=False)\n",
    "sellingPointsAddresses.head(5)"
   ]
  },
  {
   "cell_type": "markdown",
   "metadata": {},
   "source": [
    "## sellingPoints"
   ]
  },
  {
   "cell_type": "code",
   "execution_count": null,
   "metadata": {},
   "outputs": [],
   "source": [
    "# Fetch all necessary data\n",
    "sellers = supabaseUtils.fetchFilteredRecords('companies', 'isSeller', True)\n",
    "allAddresses = supabaseUtils.fetchAllRecords('addresses')\n",
    "\n",
    "# Create base selling points dataframe from anagrafica\n",
    "sellingPoints = standUpAnagrafica[['Ragione Sociale', 'SEDE']].drop_duplicates().rename(columns={'Ragione Sociale': 'name'})\n",
    "\n",
    "# Add seller company IDs to selling points\n",
    "sellingPoints = pd.merge(sellingPoints, sellers[['id', 'name']].rename(columns={'id': 'sellerCompanyId', 'name': 'SEDE'}),\n",
    "                         on=['SEDE'],\n",
    "                         how='left').drop(columns=['SEDE'])\n",
    "\n",
    "# Match addresses to selling points using coordinates\n",
    "sellingPointsAddresses = pd.merge(sellingPointsAddresses[['name', 'latitude', 'longitude']], allAddresses[['id', 'latitude', 'longitude']].rename(columns={'id': 'addressId'}),\n",
    "                                  on=['latitude', 'longitude'],\n",
    "                                  how='left')\n",
    "\n",
    "# Add address IDs to selling points\n",
    "sellingPoints = pd.merge(sellingPoints, sellingPointsAddresses[['name', 'addressId']],\n",
    "                         on=['name'],\n",
    "                         how='left').drop_duplicates(subset=['name'], keep='first')\n",
    "\n",
    "sellingPoints.to_csv('data/[UPLOAD] sellingPoints.csv', index=False)\n",
    "sellingPoints.head(5)"
   ]
  },
  {
   "cell_type": "markdown",
   "metadata": {},
   "source": [
    "# companySellingPoint"
   ]
  },
  {
   "cell_type": "code",
   "execution_count": null,
   "metadata": {},
   "outputs": [],
   "source": [
    "sellingPoints = supabaseUtils.fetchAllRecords('sellingPoints').rename(columns={'id': 'sellingPointId'})\n",
    "standUpAnagrafica = standUpAnagrafica.rename(columns={'Ragione Sociale': 'name'})\n",
    "\n",
    "companySellingPoint = pd.merge(standUpAnagrafica[['name', 'supplierCompanyId', 'sellerSellingPointCode']], sellingPoints[['sellingPointId', 'name']],\n",
    "                               on=['name'],\n",
    "                               how='left')\n",
    "companySellingPoint['startDate'] = datetime(2025, 1, 1, tzinfo=pytz.UTC)\n",
    "\n",
    "companySellingPoint.drop(columns=['name']).to_csv('data/[UPLOAD] companySellingPoint.csv', index=False)\n",
    "companySellingPoint.head(5)"
   ]
  }
 ],
 "metadata": {
  "kernelspec": {
   "display_name": "standup-tracker",
   "language": "python",
   "name": "python3"
  },
  "language_info": {
   "codemirror_mode": {
    "name": "ipython",
    "version": 3
   },
   "file_extension": ".py",
   "mimetype": "text/x-python",
   "name": "python",
   "nbconvert_exporter": "python",
   "pygments_lexer": "ipython3",
   "version": "3.11.11"
  }
 },
 "nbformat": 4,
 "nbformat_minor": 2
}
